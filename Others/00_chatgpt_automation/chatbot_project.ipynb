{
  "cells": [
    {
      "attachments": {},
      "cell_type": "markdown",
      "metadata": {
        "id": "Z0nW87vmhMDK"
      },
      "source": [
        "# Escopo do projeto / Project scope"
      ]
    },
    {
      "attachments": {},
      "cell_type": "markdown",
      "metadata": {
        "id": "u_nnhaA_hSFq"
      },
      "source": [
        "> [PT] Neste projeto iremos utilizar a API do ChatGPT para criar um programa que, após coletar a pergunta do usuário, retornará a resposta do chatbot de forma a atender a demanda solicitada. \n",
        "\n",
        "> [EN] In this project we will use the ChatGPT API to create a program that, after collecting the user's question, will return the chatbot's response in order to meet the requested demand."
      ]
    },
    {
      "attachments": {},
      "cell_type": "markdown",
      "metadata": {
        "id": "eersuvKphz2D"
      },
      "source": [
        "# Definindo os parâmetros do modelo / Defining model parameters"
      ]
    },
    {
      "cell_type": "code",
      "execution_count": null,
      "metadata": {
        "id": "esKp8fjBtZ9R"
      },
      "outputs": [],
      "source": [
        "!pip install openai"
      ]
    },
    {
      "cell_type": "code",
      "execution_count": 15,
      "metadata": {
        "id": "pFFO6bk6hK2e"
      },
      "outputs": [],
      "source": [
        "# Importando as bibliotecas / importing packages\n",
        "\n",
        "import openai\n",
        "\n",
        "# Chave / Key \n",
        "openai.api_key = [REMOVED FOR SECURITY]"
      ]
    },
    {
      "attachments": {},
      "cell_type": "markdown",
      "metadata": {
        "id": "4wBUJOc2iqKS"
      },
      "source": [
        "# Carregando o modelo de linguagem / Loading language model"
      ]
    },
    {
      "cell_type": "code",
      "execution_count": 16,
      "metadata": {
        "id": "ojGPo0yWiuOD"
      },
      "outputs": [],
      "source": [
        "def gera_texto(texto):\n",
        "\n",
        "  # Obtém a resposta / Get the response\n",
        "  response = openai.Completion.create(\n",
        "      \n",
        "      # Seleção do modelo / Model selection\n",
        "      engine = 'text-davinci-003',\n",
        "\n",
        "      # Texto inicial da conversa / Conversation start text\n",
        "      prompt = texto,\n",
        "\n",
        "      # Comprimento da resposta do modelo / Model response length\n",
        "      max_tokens = 150, \n",
        "\n",
        "      # Conclusões a gerar em cada prompt / Conclusions to generate at each prompt\n",
        "      n = 5,\n",
        "\n",
        "      # O texto retornado não conterá a sequência de parada / The returned text will not contain the stop sequence\n",
        "      stop = None,\n",
        "\n",
        "      # Medida de aleatoriedade / Measure of randomness\n",
        "      temperature = 0.8\n",
        "  )\n",
        "\n",
        "  return response.choices[0].text.strip()"
      ]
    },
    {
      "attachments": {},
      "cell_type": "markdown",
      "metadata": {
        "id": "pIv0fH5-liRS"
      },
      "source": [
        "# Modelando a interface de interação com o usuário / Modeling the user interaction interface "
      ]
    },
    {
      "cell_type": "code",
      "execution_count": 19,
      "metadata": {
        "colab": {
          "base_uri": "https://localhost:8080/"
        },
        "id": "nxQN1E5mlkzi",
        "outputId": "780eccd3-d609-4d90-e73f-ea00eba31f0e"
      },
      "outputs": [
        {
          "name": "stdout",
          "output_type": "stream",
          "text": [
            "\n",
            "Bem vindo ao ChatBot! / Welcome to Chatbot\n",
            "(Digite 'sair' para encerrar o chat / Type 'sair' to end the chat)\n",
            "\n",
            "Você: Porque eu deveria me tornar cientista de dados?\n",
            "\n",
            "Chatbot: Você deveria se tornar cientista de dados porque é uma profissão empolgante e desafiadora que permite que você trabalhe com a ciência de dados para identificar padrões, fornecer insights e descobrir soluções para os problemas mais complexos. É uma profissão em crescimento e em alta demanda, portanto, é uma ótima oportunidade para você obter um bom emprego. Além disso, é uma profissão divertida e desafiadora\n",
            "\n",
            "Você: sair\n"
          ]
        }
      ],
      "source": [
        "def main():\n",
        "\n",
        "  print(\"\\nBem vindo ao ChatBot! / Welcome to Chatbot\")\n",
        "  print(\"(Digite 'sair' para encerrar o chat / Type 'sair' to end the chat)\")\n",
        "\n",
        "  # Loop\n",
        "  while True:\n",
        "\n",
        "    # Coletando a pergunta / Collecting the question\n",
        "    user_message = input(\"\\nVocê: \")\n",
        "\n",
        "    # Condição caso a mensagem for \"sair\" / Condition if the message is \"sair\"\n",
        "    if user_message.lower() == \"sair\":\n",
        "      break\n",
        "\n",
        "    # Coloca a mensagem digitada na variável Python / Puts the typed message into the Python variable\n",
        "    gpt4_prompt = f\"\\nUsuário: {user_message}\\nChatbot:\"\n",
        "\n",
        "    # Obtém a resposta do modelo / Get the response from the model\n",
        "    chatbot_response = gera_texto(gpt4_prompt)\n",
        "\n",
        "    # Imprime a resposta / Print the answer\n",
        "    print(f\"\\nChatbot: {chatbot_response}\")\n",
        "\n",
        "# Execução do programa (bloco main) / Program execution (main block)\n",
        "if __name__ == \"__main__\":\n",
        "  main()"
      ]
    },
    {
      "cell_type": "code",
      "execution_count": null,
      "metadata": {
        "id": "i8mhkY7ylkca"
      },
      "outputs": [],
      "source": []
    }
  ],
  "metadata": {
    "colab": {
      "provenance": []
    },
    "kernelspec": {
      "display_name": "Python 3",
      "name": "python3"
    },
    "language_info": {
      "name": "python"
    }
  },
  "nbformat": 4,
  "nbformat_minor": 0
}
